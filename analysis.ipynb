{
 "cells": [
  {
   "cell_type": "code",
   "execution_count": null,
   "metadata": {},
   "outputs": [],
   "source": [
    "# Install the necessary packages\n",
    "!pip install newspaper3k\n",
    "!pip install textblob\n",
    "!pip install lxml_html_clean\n",
    "\n",
    "\n",
    "import nltk\n",
    "nltk.download('punkt')\n",
    "\n",
    "from textblob import TextBlob\n",
    "from newspaper import Article\n",
    "\n",
    "# Define the URL of the article\n",
    "url = \"https://www.bbc.com/news/world-asia-india-51969961\"\n",
    "\n",
    "# Create an Article object and download the article\n",
    "article = Article(url)\n",
    "article.download()\n",
    "\n",
    "# Parse the article\n",
    "article.parse()\n",
    "\n",
    "# Apply NLP to the article\n",
    "article.nlp()\n",
    "\n",
    "# Get the summary of the article\n",
    "text = article.summary\n",
    "print(\"Article Summary:\")\n",
    "print(text)\n",
    "\n",
    "# Create a TextBlob object and get the sentiment\n",
    "blob = TextBlob(text)\n",
    "sentiment = blob.sentiment.polarity\n",
    "print(\"\\nSentiment Polarity:\", sentiment)\n",
    "\n",
    "# Determine the sentiment category\n",
    "if sentiment == 0:\n",
    "    print(\"The text is neutral\")\n",
    "elif sentiment > 0:\n",
    "    print(\"The text is positive\")\n",
    "else:\n",
    "    print(\"The text is negative\")\n"
   ]
  }
 ],
 "metadata": {
  "kernelspec": {
   "display_name": "Python 3",
   "language": "python",
   "name": "python3"
  },
  "language_info": {
   "codemirror_mode": {
    "name": "ipython",
    "version": 3
   },
   "file_extension": ".py",
   "mimetype": "text/x-python",
   "name": "python",
   "nbconvert_exporter": "python",
   "pygments_lexer": "ipython3",
   "version": "3.12.4"
  }
 },
 "nbformat": 4,
 "nbformat_minor": 2
}
